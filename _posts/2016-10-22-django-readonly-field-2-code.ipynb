{
 "cells": [
  {
   "cell_type": "markdown",
   "metadata": {},
   "source": [
    "---\n",
    "title: Django Readonly Field - Chapter 2 - The code\n",
    "icon: code\n",
    "date: 2016-10-22 00:10:00\n",
    "---"
   ]
  },
  {
   "cell_type": "markdown",
   "metadata": {},
   "source": [
    "This article is part of a series on [Django Readonly Field]({% post_url 2016-10-22-django-readonly-field-1-lib %}). Here, we see **how it works**.\n",
    "\n",
    "{{ excerpt_separator }}\n",
    "\n",
    "## Exploring the project\n",
    "\n",
    "First, you can see that the [GitHub project](https://github.com/novafloss/django-readonly-field) contains quite a few files, but the really interesting part for today is the [`django_readonly_field` subdirectory](https://github.com/novafloss/django-readonly-field/tree/b8c3878976/django_readonly_field). So that's only 3 files and [59 lines of code](https://codecov.io/gh/novafloss/django-readonly-field/list/b8c38789769e44779574bdbc508fc0358d9e1464) according to my coverage data.\n",
    "\n",
    "Let's look at those files.\n",
    "\n",
    "## `__init__.py`, the entry point"
   ]
  },
  {
   "cell_type": "code",
   "execution_count": null,
   "metadata": {
    "collapsed": true
   },
   "outputs": [],
   "source": [
    "__version__ = '1.0.1'\n",
    "\n",
    "default_app_config = \"django_readonly_field.apps.Readonly\""
   ]
  },
  {
   "cell_type": "markdown",
   "metadata": {},
   "source": [
    "You can see that there's not much done here. The version is useful to have here for the lib to easily introspect its own version if need be. The `default_app_config` is interesting. According to the [Django documentation](https://docs.djangoproject.com/en/1.10/ref/applications/#configuring-applications), this variable will be used if the module it's in is placed in the list of `INSTALLED_APPS`. So now we kind of have a idea how the app is to be used.\n",
    "\n",
    "The value seems to be a class defined in `apps.py`. Let's go and check that.\n",
    "\n",
    "## `apps.py`, switching the compiler"
   ]
  },
  {
   "cell_type": "code",
   "execution_count": null,
   "metadata": {
    "collapsed": false
   },
   "outputs": [],
   "source": [
    "from __future__ import unicode_literals\n",
    "\n",
    "from django.apps import AppConfig\n",
    "\n",
    "\n",
    "class Readonly(AppConfig):\n",
    "    name = 'django_readonly_field'\n",
    "\n",
    "    def ready(self):\n",
    "        from django.db import connection\n",
    "        from django.db import utils\n",
    "\n",
    "        readonly_compiler_module = \"django_readonly_field.compiler\"\n",
    "\n",
    "        # Change the current value (this is mostly important for the tests)\n",
    "        connection.ops.compiler_module = readonly_compiler_module\n",
    "\n",
    "        original_load_backend = utils.load_backend\n",
    "\n",
    "        def custom_load_backend(*args, **kwargs):\n",
    "            backend = original_load_backend(*args, **kwargs)\n",
    "\n",
    "            class ReadOnlyBackend(object):\n",
    "                @staticmethod\n",
    "                def DatabaseWrapper(*args2, **kwargs2):\n",
    "                    connection = backend.DatabaseWrapper(*args2, **kwargs2)\n",
    "                    connection.ops.compiler_module = readonly_compiler_module\n",
    "                    return connection\n",
    "\n",
    "            return ReadOnlyBackend\n",
    "\n",
    "        # Make sure all future values will be changed too\n",
    "        # (this is mostly important for the real life)\n",
    "        utils.load_backend = custom_load_backend\n"
   ]
  },
  {
   "cell_type": "markdown",
   "metadata": {},
   "source": [
    "Let's dive in !"
   ]
  },
  {
   "cell_type": "code",
   "execution_count": null,
   "metadata": {
    "collapsed": true
   },
   "outputs": [],
   "source": [
    "class Readonly(AppConfig):\n",
    "    name = 'django_readonly_field'\n",
    "\n",
    "    def ready(self):"
   ]
  },
  {
   "cell_type": "markdown",
   "metadata": {},
   "source": [
    "From the Django documentation above, we learn that the `AppConfig.ready` method is called as part of `django.start()` which is called at the very beginning of a django process."
   ]
  },
  {
   "cell_type": "code",
   "execution_count": null,
   "metadata": {
    "collapsed": true
   },
   "outputs": [],
   "source": [
    "from django.db import connection\n",
    "\n",
    "readonly_compiler_module = \"django_readonly_field.compiler\"\n",
    "\n",
    "# Change the current value (this is mostly important for the tests)\n",
    "connection.ops.compiler_module = readonly_compiler_module\n"
   ]
  },
  {
   "cell_type": "markdown",
   "metadata": {},
   "source": [
    "So the main step here is that we replace the string in [`django.db.connection.ops.compile_module`](https://github.com/django/django/blob/8119b67/django/db/backends/base/operations.py#L21) with `'django_readonly_field'`.\n",
    "\n",
    "This string is used [here](https://github.com/django/django/blob/8119b67/django/db/backends/base/operations.py#L304-L312)."
   ]
  },
  {
   "cell_type": "code",
   "execution_count": null,
   "metadata": {
    "collapsed": true
   },
   "outputs": [],
   "source": [
    "# django/django/db/backends/base/operations.py in BaseDatabaseOperations\n",
    "def compiler(self, compiler_name):\n",
    "    \"\"\"\n",
    "    Returns the SQLCompiler class corresponding to the given name,\n",
    "    in the namespace corresponding to the `compiler_module` attribute\n",
    "    on this backend.\n",
    "    \"\"\"\n",
    "    if self._cache is None:\n",
    "        self._cache = import_module(self.compiler_module)\n",
    "    return getattr(self._cache, compiler_name)"
   ]
  },
  {
   "cell_type": "markdown",
   "metadata": {},
   "source": [
    "It is the main link between the `DatabaseWrapper` object which represent a connection between Django and its Database, and the SQLCompiler class which is how django transforms methods calls into SQL.\n",
    "\n",
    "The idea is that we'll use our very own compiler that will remove the fields marked as readonly from write queries.\n",
    "\n",
    "### The thread problem\n",
    "\n",
    "One thing that was hard to foresee is that the object we're modifying here (actually, the whole `DatabaseWrapper`) is completely recreated in every thread (it's local to the thread), and Django will use a new thread for every connection. This means that the object we're modifying here will be thrown away shortly, except in the tests that are mono-threaded.\n",
    "\n",
    "Consequently, we need to make the same modification in every new version of the `DatabaseWrapper`. We'll do this by modifying the `load_backend` function that is defined [here](https://github.com/django/django/blob/9f4e031/django/db/utils.py#L105) and used [here](https://github.com/django/django/blob/9b9c8c4/django/db/utils.py#L204-L214). The main advantage of modifying this function in particular is that it's not thread local (there will be only one instance of this function, whatever the number of threads used) but all the threads will use this function.\n",
    "\n",
    "The next question is how do we make `load_backend` return a patched `DatabaseWrapper`?"
   ]
  },
  {
   "cell_type": "code",
   "execution_count": null,
   "metadata": {
    "collapsed": true
   },
   "outputs": [],
   "source": [
    " original_load_backend = utils.load_backend\n",
    "\n",
    "def custom_load_backend(*args, **kwargs):\n",
    "    backend = original_load_backend(*args, **kwargs)\n",
    "\n",
    "    class ReadOnlyBackend(object):\n",
    "        @staticmethod\n",
    "        def DatabaseWrapper(*args2, **kwargs2):\n",
    "            connection = backend.DatabaseWrapper(*args2, **kwargs2)\n",
    "            connection.ops.compiler_module = readonly_compiler_module\n",
    "            return connection\n",
    "\n",
    "    return ReadOnlyBackend\n",
    "\n",
    "# Make sure all future values will be changed too\n",
    "# (this is mostly important for the real life)\n",
    "utils.load_backend = custom_load_backend"
   ]
  },
  {
   "cell_type": "markdown",
   "metadata": {},
   "source": [
    "If we follow the [original code](https://github.com/django/django/blob/9b9c8c4/django/db/utils.py#L211-L212):\n",
    "* `load_backend` is called and returns an object (more precisely a module);\n",
    "* in this object, a `DatabaseWrapper` is called and returns a `DatabaseWrapper` instance;\n",
    "* In `DatabaseWrapper.__init__()`, it defines the `op` object whose `compiler_module` we want to change.\n",
    "\n",
    "So we use Python duck-typing capabilities :\n",
    "* Our own `custom_load_backend` needs to return an object. Instead of a module like the original function, we'll return a class;\n",
    "* The returned object needs to contain an object named `DatabaseWrapper`, which is the case, but instead of a class in the original function, our object is a staticmethod;\n",
    "* When that object is called, it's supposed to return the `DatabaseWrapper`. In the original function, this would simply a call to the class constructor. In our cas, it's a call to the static method. The static method will instanciate a real `DatabaseWrapper`, then patch it and then return it."
   ]
  },
  {
   "cell_type": "markdown",
   "metadata": {},
   "source": [
    "The magic of Python duck-typing is that python has no need to know that it just manipulated a class and a staticmethod instead of a module and a class like it was originally written for, because both had the same interfaces.\n",
    "\n",
    "So now, all that's left for us to see is what exactly our `SQLCompiler` does.\n",
    "\n",
    "## `compiler.py`, the real work"
   ]
  },
  {
   "cell_type": "code",
   "execution_count": null,
   "metadata": {
    "collapsed": true
   },
   "outputs": [],
   "source": [
    "from django.db.models.sql.compiler import SQLCompiler\n",
    "from django.db.models.sql.compiler import SQLInsertCompiler as BaseSQLInsertCompiler  # noqa\n",
    "from django.db.models.sql.compiler import SQLDeleteCompiler\n",
    "from django.db.models.sql.compiler import SQLUpdateCompiler as BaseSQLUpdateCompiler  # noqa\n",
    "from django.db.models.sql.compiler import SQLAggregateCompiler\n",
    "\n",
    "SQLCompiler = SQLCompiler\n",
    "SQLDeleteCompiler = SQLDeleteCompiler\n",
    "SQLAggregateCompiler = SQLAggregateCompiler"
   ]
  },
  {
   "cell_type": "markdown",
   "metadata": {},
   "source": [
    "The SQL compiler module is expected to contain classes named in a very specific way. The classes that we're not modifying, we'll just import them and don't touch them.\n",
    "\n",
    "For the ones we'll modify, we'll actually subclass them and add the a mixin that reads as follow:"
   ]
  },
  {
   "cell_type": "code",
   "execution_count": null,
   "metadata": {
    "collapsed": true
   },
   "outputs": [],
   "source": [
    "class ReadonlySQLCompilerMixin(object):\n",
    "\n",
    "    @property\n",
    "    def readonly_field_names(self):\n",
    "        try:\n",
    "            readonly_meta = getattr(self.query.model, \"ReadonlyMeta\")\n",
    "        except AttributeError:\n",
    "            return ()\n",
    "        else:\n",
    "            fields = getattr(readonly_meta, \"_cached_readonly\", None)\n",
    "            if not fields:\n",
    "                readonly_meta._cached_readonly = fields = frozenset(\n",
    "                    getattr(readonly_meta, \"readonly\", ()))\n",
    "            return fields\n",
    "\n",
    "    def as_sql(self):\n",
    "        readonly_field_names = self.readonly_field_names\n",
    "        if readonly_field_names:\n",
    "            self.remove_readonly_fields(readonly_field_names)\n",
    "        return super(ReadonlySQLCompilerMixin, self).as_sql()\n",
    "\n"
   ]
  },
  {
   "cell_type": "markdown",
   "metadata": {},
   "source": [
    "The `readonly_field_names` will explore the Model associated to the query, and if there's a class named `ReadonlyMeta` defined here, it will read its `readonly` property containing the names of the fields we want to be readonly. We make a [`frozenset`](https://docs.python.org/3/library/stdtypes.html#frozenset) out of it, because that's the best structure Python provides for our use (unordered iterable with unique values that we never have to update in the course of the program). These field names are returned.\n",
    "\n",
    "The `as_sql` method is the entrypoint for all things SQL, so that's where we're going to hit. Sadly, the format of the fields is not the same for `SQLInsertCompiler` and `SQLUpdateCompiler`, so we'll let the subclass add all the necessary details.\n",
    "\n",
    "The subclasses are just doing the expected work : removing the fields from the query :"
   ]
  },
  {
   "cell_type": "code",
   "execution_count": null,
   "metadata": {
    "collapsed": true
   },
   "outputs": [],
   "source": [
    "class SQLUpdateCompiler(ReadonlySQLCompilerMixin, BaseSQLUpdateCompiler):\n",
    "\n",
    "    def remove_readonly_fields(self, readonly_field_names):\n",
    "        \"\"\"\n",
    "        Remove the values from the query which correspond to a\n",
    "        readonly field\n",
    "        \"\"\"\n",
    "        values = self.query.values\n",
    "\n",
    "        # The tuple is (field, model, value) where model if used for FKs.\n",
    "        values[:] = (\n",
    "            (field, _, __) for (field, _, __) in values\n",
    "            if field.name not in readonly_field_names\n",
    "        )\n",
    "\n",
    "\n",
    "class SQLInsertCompiler(ReadonlySQLCompilerMixin, BaseSQLInsertCompiler):\n",
    "\n",
    "    def _exclude_readonly_fields(self, fields, readonly_field_names):\n",
    "        for field in fields:\n",
    "            if field.name not in readonly_field_names:\n",
    "                yield field\n",
    "\n",
    "    def remove_readonly_fields(self, readonly_field_names):\n",
    "        \"\"\"\n",
    "        Remove the fields from the query which correspond to a\n",
    "        readonly field\n",
    "        \"\"\"\n",
    "        fields = self.query.fields\n",
    "\n",
    "        try:\n",
    "            fields[:] = self._exclude_readonly_fields(\n",
    "                fields, readonly_field_names)\n",
    "        except AttributeError:\n",
    "            # When deserializing, we might get an attribute error because this\n",
    "            # list shoud be copied first :\n",
    "\n",
    "            # \"AttributeError: The return type of 'local_concrete_fields'\n",
    "            # should never be mutated. If you want to manipulate this list for\n",
    "            # your own use, make a copy first.\"\n",
    "\n",
    "            self.query.fields = list(self._exclude_readonly_fields(\n",
    "                fields, readonly_field_names))\n"
   ]
  },
  {
   "cell_type": "markdown",
   "metadata": {},
   "source": [
    "There's not much to say here. A few tricks are used :\n",
    "\n",
    "* `my_list[:] = new_list` is quite the same as `my_list = new_list` except that the former re-uses the same list, while the latter creates a new list in memory.\n",
    "* The 2 forms of generators are used here. The comprehension generator and the one that uses `yield`. If you don't know about those, go and learn about it, it's one of Python's really nice features.\n",
    "\n",
    "## Conclusion\n",
    "\n",
    "Well that's the whole of it ! We patch the compiler to remove the readonly fields from the sql requests. We do this both in the main thread and in the subthreads created afterwards. And just with this, it works.\n",
    "\n",
    "But this is only a part of Django Readonly Field. In order for it to be usable, we need many other parts. If you're interested in other articles on, say, the tests, the CI, the scaffolding, the packaging etc, let me know !"
   ]
  }
 ],
 "metadata": {
  "celltoolbar": "Edit Metadata",
  "kernelspec": {
   "display_name": "Python 3",
   "language": "python",
   "name": "python3"
  },
  "language_info": {
   "codemirror_mode": {
    "name": "ipython",
    "version": 3
   },
   "file_extension": ".py",
   "mimetype": "text/x-python",
   "name": "python",
   "nbconvert_exporter": "python",
   "pygments_lexer": "ipython3",
   "version": "3.5.2"
  }
 },
 "nbformat": 4,
 "nbformat_minor": 1
}
